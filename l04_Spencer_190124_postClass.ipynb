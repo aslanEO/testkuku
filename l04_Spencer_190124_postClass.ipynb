{
 "cells": [
  {
   "cell_type": "markdown",
   "metadata": {},
   "source": [
    "## Overview\n",
    "* PreClass\n",
    "    * A new lecture\n",
    "    * TODONEs\n",
    "* Inductive Logic: Generative Grammars\n",
    "    * Context\n",
    "        * Language Hierarchy\n",
    "        * Applications\n",
    "    * Introduction – Linked List\n",
    "    * Help Me – Trees\n",
    "    * Try it yourself – Regular Expressions\n",
    "* Surveys\n",
    "* TODOs\n",
    "* Solutions (that I wrote before class)"
   ]
  },
  {
   "cell_type": "markdown",
   "metadata": {},
   "source": [
    "## PreClass\n",
    "### A new lecture\n",
    "* I actually made a whole new lecture last night\n",
    "* If you downloaded this earlier, please go an redownload this doc\n",
    "* Moodle > week 2 > Spencer Week 2 Lecture Material\n",
    "\n",
    "###  TODONEs\n",
    "* THURSDAYs lecture 01/24 I'll answer any outstanding questions you have on the JNs readings for week 1 and 2 on Moodle. As time permits, we'll have some exercises to try out.\n",
    "* See Moodle for recommended readings. As needed look around for supplemental material including video resources (post those resources to piazza if you're comfortable)\n",
    "* Continue to work through Homework 1\n",
    "    * As you have questions, ask on piazza\n",
    "    * If you need help, try an office hour\n",
    "* Homework 1 and quiz 1 are due this week\n",
    "* Homework 2 and quiz 2 will go live this week"
   ]
  },
  {
   "cell_type": "markdown",
   "metadata": {},
   "source": [
    "## Inductive Logic: Generative Grammars\n",
    "### Context\n",
    "* Today we will look at **generative grammars**, a kind of Context Free Grammar"
   ]
  },
  {
   "cell_type": "markdown",
   "metadata": {},
   "source": [
    "#### Language Hierarchy\n",
    "There are 3 broad categories of languages:\n",
    "1. Regular Languages\n",
    "* Context Free Languages\n",
    "* Context Sensitive Languages\n",
    "\n",
    "Each of these language categories have a variety of tools that we could use to describe them. Each is more express than the one before it with Context Sensitive Langauges being the most expressive.\n",
    "\n",
    "Today we will look at Context Free Languages and one of my favorite tools, Context Free Grammars (CFGs). Specifically we will look at what we have termed **generative grammars**"
   ]
  },
  {
   "cell_type": "markdown",
   "metadata": {},
   "source": [
    "#### Applications\n",
    "* Grammars rely on sets and mathmaticians have a lot of useful applications and game for sets, don’t quote me, but I believe all of the following rely on sets:\n",
    "    * Set Theory\n",
    "    * Number Theory\n",
    "    * Category Theory (this is the underpinning of true functional programming)\n",
    "* Grammars are used for graphics and animations\n",
    "* I actually use grammars at work on occasions to explain a somewhat complex function quickly to my peers that understand sets well\n",
    "* Have any of you used a grammar before? I bet you have…"
   ]
  },
  {
   "cell_type": "markdown",
   "metadata": {},
   "source": [
    "### Introduction – Linked List\n",
    "* Lets start with some drawings\n",
    "    * In C++, where most of you learned data structures, the Linked List structure requires pointers and so we draw it like so (see board)\n",
    "    * In the functional subset of Scala, we don’t need pointers – for anything! (YAAAAAAAAS!) And so we could draw a Linked List like so (see board)\n",
    "* Now that we’ve looked at the drawings, we’re almost ready construct our generative grammar for the linked list.\n",
    "* first, some notation\n",
    "    * **&RightArrow;**: This means produces\n",
    "    * **|**: This means “OR” (as you likely expected)\n",
    "* Now we can define a linked list using a generative grammar\n",
    "    * First, I need to define a term for the end of the linked list: *Nil*\n",
    "    * Next I need to define a term for the node: *Node(value, list)*\n",
    "    * Now I’m ready, here is my generative grammar for a linked list\n",
    "        * *list* &RightArrow; *Nil* | *Node(value, list)*\n",
    "        * *value* can be any set we want it to be…"
   ]
  },
  {
   "cell_type": "markdown",
   "metadata": {},
   "source": [
    "#### Qs?\n",
    "* Can we have multiple values in each node:\n",
    "   * one option, redefine the list\n",
    "       * *list* &RightArrow; *Nil* | *Node(value1, value2, list)*\n",
    "   * another option is to let the value be a tuple or some class\n",
    "       * *list* &RightArrow; *Nil* | *Node(value, list)*\n"
   ]
  },
  {
   "cell_type": "markdown",
   "metadata": {},
   "source": [
    "#### Linear Derivations\n",
    "* I don’t know yet if we’ll test on these, but something I find **derivations** helpful in understanding these. Let’s look at some **left linear derivations** for our grammar. Think of this as a tool at your disposal\n",
    "    * formula\n",
    "        * Identify a sentence defined by your grammar\n",
    "        * Demonstrate that the sentence is defined by your grammar by making productions of your first grammar rule.\n",
    "        * Always substitute the left most substitutable item\n",
    "    * Example 1:\n",
    "        * Sentence: *Node(1, Nil)*\n",
    "        * Left Linear Derivation: *list* &RightArrow; *Node(value, list)* &RightArrow; *Node(1, list)* &RightArrow; *Node(1, Nil)* \n",
    "    * Example 2:\n",
    "        * Sentence: *Node(dog, Node(cat, Nil))*\n",
    "        * Left Linear Derivation:\n",
    " \n",
    "*list* &RightArrow; \n",
    "\n",
    "*Node(value, list)* &RightArrow; \n",
    "\n",
    "*Node(dog, list)* &RightArrow; \n",
    "\n",
    "*Node(dog, Node(value, list))* &RightArrow; \n",
    "\n",
    "*Node(dog, Node(cat, list))* &RightArrow; \n",
    "\n",
    "*Node(dog, Node(cat, Nil))*"
   ]
  },
  {
   "cell_type": "markdown",
   "metadata": {},
   "source": [
    "\n",
    "* Example 3:\n",
    "    * Grammar: *list* &RightArrow; *Nil* | *Node(value, list)*\n",
    "    * Sentence: *Node(1, Node(fish, Node(2, Node(fish, Nil))))*\n",
    "    * Left Linear Derivation:\n",
    "\n",
    "*list* &RightArrow; \n",
    "\n",
    "*Node(value, list)* &RightArrow; \n",
    "\n",
    "*Node(1, list)* &RightArrow; \n",
    "\n",
    "*Node(1, Node(value, list))* &RightArrow; \n",
    "\n",
    "*Node(1, Node(fish, list))* &RightArrow; \n",
    "\n",
    "*Node(1, Node(fish, Node(value, list))* &RightArrow; \n",
    "\n",
    "*Node(1, Node(fish, Node(2, list))* &RightArrow; \n",
    "\n",
    "*Node(1, Node(fish, Node(2, Node(value, list)))* &RightArrow; \n",
    "\n",
    "*Node(1, Node(fish, Node(2, Node(fish, list)))* &RightArrow; \n",
    "\n",
    "*Node(1, Node(fish, Node(2, Node(fish, Nil)))*\n",
    "\n",
    "* There are also **right linear derivations** and some tree like structures we can use to demonstrate that a sentence is in our language"
   ]
  },
  {
   "cell_type": "markdown",
   "metadata": {},
   "source": [
    "#### Discuss with a friend\n",
    "* What about this makes sense?\n",
    "* What about this is confusing?\n",
    "* What do you think you can do with this that hasn't been shown yet?\n",
    "\n",
    "#### Qs?"
   ]
  },
  {
   "cell_type": "markdown",
   "metadata": {},
   "source": [
    "#### What next\n",
    "* These generative grammars can quickly and easily be translated into classes in Scala\n",
    "* After that we can start writing methods of those classes in scala\n",
    "    * Just like generative grammars tool help us write classes, there is a tool for explaining these methods (I’m not sure if we’ll cover that tool, but I’ll likely release some notes on it for those that are interested)"
   ]
  },
  {
   "cell_type": "markdown",
   "metadata": {},
   "source": [
    "#### Qs?"
   ]
  },
  {
   "cell_type": "markdown",
   "metadata": {},
   "source": [
    "### Try it with a friend – Trees\n",
    "* I'll get us started\n",
    "    * draw a picture\n",
    "    * Label the key terms\n",
    "* Write a generative grammar\n",
    "* Try a derivation or 2"
   ]
  },
  {
   "cell_type": "markdown",
   "metadata": {},
   "source": [
    "#### Discuss with a friend\n",
    "* What about this makes sense?\n",
    "* What about this is confusing?\n",
    "* What do you think you can do with this that hasn't been shown yet?\n",
    "\n",
    "#### Qs?"
   ]
  },
  {
   "cell_type": "markdown",
   "metadata": {},
   "source": [
    "## Surveys\n",
    "* At the end of the semester you get a grade\n",
    "    * Throughout the semester you have several assignments and each of them are graded and so:\n",
    "        * You should always know how you are doing in the course\n",
    "        * You should always know where you can improve\n",
    "* At the end of the semester I also get a grade\n",
    "    * It’s called an FCQ\n",
    "    * I don’t get a whole lot of feedback in the semester, all I have is based on where your grade is at, but that doesn’t really help me know where to improve\n",
    "* Moving forward, I would like to do a survey, probably every 2 weeks\n",
    "    * Please at least fill out the easy ones\n",
    "    * Please also try to give me some qualitative data and ideas for improvement (especially if you are giving me a low score on an easy one)"
   ]
  },
  {
   "cell_type": "markdown",
   "metadata": {},
   "source": [
    "## Review\n",
    "* Inductive Logic: Generative Grammars\n",
    "    * Context\n",
    "        * Language Hierarchy\n",
    "        * Applications\n",
    "    * Introduction – Linked List\n",
    "    * Help Me – Trees\n",
    "    * Try it yourself – Regular Expressions\n",
    "* Surveys"
   ]
  },
  {
   "cell_type": "markdown",
   "metadata": {},
   "source": [
    "## TODO\n",
    "* Homework and quiz 1 is due tomorrow\n",
    "* Homework and quiz 2 is going live this evening\n",
    "* Recitation tomorrow will prepare you for anything extra you need for homework 2\n",
    "* I sent you a survey over email.\n",
    "    * It is anonymous.\n",
    "    * I use these to help myself get better.\n",
    "    * PLEASE take it and take a moment to complete at least one of the long answer questions\n",
    "    * Useful feedback so far! Thanks for that!\n",
    "\n"
   ]
  },
  {
   "cell_type": "markdown",
   "metadata": {},
   "source": [
    "## Solution – Trees\n",
    "* This is my solution. It is not the only solution.\n",
    "* Label the key terms\n",
    "    * end of the tree: *Nil*\n",
    "    * node in the tree: *Node(left, value, right)*\n",
    "* Write a generative grammar\n",
    "    * *tree* &RightArrow; *Empty* | *Node(left, value, right)*\n",
    "    * *left* &RightArrow; *tree*\n",
    "    * *right* &RightArrow; *tree*\n",
    "    * *value* can be any set we want\n",
    "* A derivation:\n",
    "    * Identify a sentence: Node(Empty, 200, Node(Empty, 2, Empty))\n",
    "    * Derive: \n",
    "\n",
    "*tree* \n",
    "\n",
    "&RightArrow; *Node(left, value, right)* \n",
    "\n",
    "&RightArrow; *Node(tree, value, right)* \n",
    "\n",
    "&RightArrow; *Node(Node(left, value, right), value, right)* \n",
    "\n",
    "&RightArrow; *Node(Node(tree, value, right), value, right)* \n",
    "\n",
    "&RightArrow; *Node(Node(Empty, value, right), value, right)* \n",
    "\n",
    "&RightArrow; *Node(Node(Empty, 200, right), value, right)* \n",
    "\n",
    "&RightArrow; *Node(Node(Empty, 200, tree), value, right)* \n",
    "\n",
    "&RightArrow; *Node(Node(Empty, 200, Empty), value, right)* \n",
    "\n",
    "&RightArrow;<sup>3</sup> *Node(Node(Empty, 200, Empty), 2, Empty)*   // Note that here I took 3 steps\n",
    "\n",
    "\n",
    "* And finally some code:\n",
    "    * This probably doesn’t use the terms from the course notes. On Tuesday we’ll do some code using the terms from the course notes.\n",
    "<code>"
   ]
  },
  {
   "cell_type": "code",
   "execution_count": 7,
   "metadata": {},
   "outputs": [
    {
     "name": "stdout",
     "output_type": "stream",
     "text": [
      "TESTING...\n",
      "Passed all tests!\n"
     ]
    },
    {
     "data": {
      "text/plain": [
       "defined \u001b[32mclass\u001b[39m \u001b[36mTree\u001b[39m\n",
       "defined \u001b[32mobject\u001b[39m \u001b[36mEmpty\u001b[39m\n",
       "defined \u001b[32mclass\u001b[39m \u001b[36mNode\u001b[39m\n",
       "defined \u001b[32mfunction\u001b[39m \u001b[36minsertLeft\u001b[39m\n",
       "\u001b[36mt0\u001b[39m: \u001b[32mEmpty\u001b[39m.type = Empty\n",
       "\u001b[36mt1\u001b[39m: \u001b[32mNode\u001b[39m[\u001b[32mInt\u001b[39m] = \u001b[33mNode\u001b[39m(Empty, \u001b[32m10\u001b[39m, Empty)\n",
       "\u001b[36mt2\u001b[39m: \u001b[32mNode\u001b[39m[\u001b[32mInt\u001b[39m] = \u001b[33mNode\u001b[39m(\u001b[33mNode\u001b[39m(Empty, \u001b[32m7\u001b[39m, Empty), \u001b[32m10\u001b[39m, Empty)"
      ]
     },
     "execution_count": 7,
     "metadata": {},
     "output_type": "execute_result"
    }
   ],
   "source": [
    "// tree -> Empty | Node(left, value, right)\n",
    "// left -> tree\n",
    "// right -> tree\n",
    "// value is any set\n",
    "\n",
    "// lets define value as a set V\n",
    "// There are many ways that I could write this... but here is the one that\n",
    "// makes the most sense to me...\n",
    "\n",
    "sealed abstract class Tree[+V]\n",
    "case object Empty extends Tree\n",
    "case class Node[V](left:Tree[V], value:V, right:Tree[V]) extends Tree[V]\n",
    "\n",
    "\n",
    "// This is a stand alone function...\n",
    "// Not a method of the Tree[+A] class\n",
    "def insertLeft(t:Tree[Int], n:Int):Tree[Int] = t match {\n",
    "    case Empty => Node(Empty,n,Empty)\n",
    "    case Node(l,v,r) => Node(insertLeft(l,n), v, r)\n",
    "    // {\n",
    "    //     val newL = insertLeft(l, n)\n",
    "    //     Node(newL, v, r)\n",
    "    // }\n",
    "}\n",
    "\n",
    "println(\"TESTING...\")\n",
    "val t0 = Empty\n",
    "val t1 = Node(Empty, 10, Empty)\n",
    "val t2 = Node(Node(Empty, 7, Empty), 10, Empty)\n",
    "assert(insertLeft(t0,10) == t1)\n",
    "assert(insertLeft(t1,7) == t2)\n",
    "println(\"Passed all tests!\")"
   ]
  }
 ],
 "metadata": {
  "anaconda-cloud": {},
  "kernelspec": {
   "display_name": "Scala 2.11.11",
   "language": "scala",
   "name": "scala"
  },
  "language_info": {
   "codemirror_mode": "text/x-scala",
   "file_extension": ".scala",
   "mimetype": "text/x-scala",
   "name": "scala211",
   "nbconvert_exporter": "script",
   "pygments_lexer": "scala",
   "version": "2.11.11"
  }
 },
 "nbformat": 4,
 "nbformat_minor": 1
}
