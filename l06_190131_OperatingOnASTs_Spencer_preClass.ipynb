{
 "cells": [
  {
   "cell_type": "markdown",
   "metadata": {},
   "source": [
    "# CSCI 3155 - L6 - Operating on ASTs - Spencer"
   ]
  },
  {
   "cell_type": "markdown",
   "metadata": {},
   "source": [
    "## Overview\n",
    "* Terms\n",
    "* Operating on an AST\n",
    "    * Logic\n",
    "    * Maths\n",
    "* Solutions\n",
    "* TODOs"
   ]
  },
  {
   "cell_type": "markdown",
   "metadata": {},
   "source": [
    "## Announcements\n",
    "* The first spot exam is next Friday 01/08 in Recitation\n",
    "    * If you have accommodation letter that should be given to me by today\n",
    "    * The Moodle quizzes are solid references\n",
    "    * I think the first exmam will go really well for you all\n",
    "    * But you will need to study up for this\n",
    "    * Format\n",
    "        * Each question will have a box where you need to write your answer\n",
    "        * I'll discuss this further next week\n",
    "* The first project is going live at the end of next week\n",
    "    * We'll introduce a language called \"LetUs\"\n",
    "    * We'll have you implement some functions for it\n",
    "    * You'll have to work with compiled Scala code\n",
    "        * I'll cover this next week\n",
    "        * Week 1 readings cover some important points on this matter\n",
    "        * The internet will also be a great resource for this"
   ]
  },
  {
   "cell_type": "markdown",
   "metadata": {},
   "source": [
    "## Terms\n",
    "* **visitor pattern**: ???\n",
    "* **short circuiting**: ???\n",
    "* **case matching**: ???"
   ]
  },
  {
   "cell_type": "markdown",
   "metadata": {},
   "source": [
    "## Operating on an AST\n",
    "* We’ve created generative grammars\n",
    "* We’ve looked at parsing (at a really high level) and ASTs\n",
    "* But how do we use these ASTs?\n"
   ]
  },
  {
   "cell_type": "markdown",
   "metadata": {},
   "source": [
    "### Logic\n",
    "#### Writing an interpreter\n",
    "* Tuesday in class we defined an AST named \"Logic\"\n",
    "* Let's write an interpreter for it using the **visitor pattern**\n",
    "    * I'll name the interpreter \"eval\"\n",
    "    * We'll start with a few tests that ought to hold true when we are done\n",
    "    * Then I'll show you a few of the methods\n",
    "    * And I'll ask you to help me with a few\n",
    "    * We'll discuss the concept of **short circuiting**\n",
    "    * We'll discuss the advantages and limitations of the visitor pattern\n",
    "* Then we'll reimplement without the interpretor\n",
    "    * I'll call this method **evalMethod**\n",
    "    * This will take advantage of **case matching**\n",
    "        * It's like a switch statement is super powers\n",
    "* Then we'll reimplement this as a stand alone function named **evaluate**"
   ]
  },
  {
   "cell_type": "code",
   "execution_count": 17,
   "metadata": {
    "collapsed": false
   },
   "outputs": [
    {
     "ename": "",
     "evalue": "",
     "output_type": "error",
     "traceback": [
      "\u001b[31mscala.NotImplementedError: an implementation is missing\u001b[39m\n  scala.Predef$.$qmark$qmark$qmark(\u001b[32mPredef.scala\u001b[39m:\u001b[32m288\u001b[39m)\n  ammonite.$sess.cmd16$Helper$Value.eval(\u001b[32mcmd16.sc\u001b[39m:\u001b[32m7\u001b[39m)\n  ammonite.$sess.cmd16$Helper.<init>(\u001b[32mcmd16.sc\u001b[39m:\u001b[32m32\u001b[39m)\n  ammonite.$sess.cmd16$.<init>(\u001b[32mcmd16.sc\u001b[39m:\u001b[32m7\u001b[39m)\n  ammonite.$sess.cmd16$.<clinit>(\u001b[32mcmd16.sc\u001b[39m:\u001b[32m-1\u001b[39m)"
     ]
    }
   ],
   "source": [
    "// Grammar:\n",
    "/*\n",
    " * Logic --> Value(b) | Not(Logic) | Or(Logic, Logic) | And(Logic, Logic)\n",
    " * b is a Boolean\n",
    " */\n",
    "\n",
    "// // AST\n",
    "// sealed trait Logic\n",
    "// case class Value(b:Boolean) extends Logic\n",
    "// case class Not(l1:Logic) extends Logic \n",
    "// case class Or(l1:Logic, l2:Logic) extends Logic \n",
    "// case class And(l1:Logic, l2:Logic) extends Logic\n",
    "\n",
    "\n",
    "// AST and interpreter:\n",
    "sealed trait Logic {\n",
    "    def evalMethod():Boolean = ???\n",
    "    def eval():Boolean = this.eval()\n",
    "}\n",
    "case class Value(b:Boolean) extends Logic {\n",
    "    override def eval():Boolean = {\n",
    "        ???\n",
    "    }\n",
    "}\n",
    "case class Not(l1:Logic) extends Logic {\n",
    "    override def eval():Boolean = {\n",
    "        ???\n",
    "    }\n",
    "}\n",
    "case class Or(l1:Logic, l2:Logic) extends Logic {\n",
    "    override def eval():Boolean = {\n",
    "        ???\n",
    "    }\n",
    "}\n",
    "case class And(l1:Logic, l2:Logic) extends Logic {\n",
    "    override def eval():Boolean = {\n",
    "        ???\n",
    "    }\n",
    "}\n",
    "\n",
    "def evaluate(l:Logic):Boolean = {\n",
    "    ???\n",
    "}\n",
    "\n",
    "// Tests:\n",
    "// True = True\n",
    "assert( true == Value(true).eval() )\n",
    "assert(Value(true).eval)\n",
    "// False = False\n",
    "assert( false == Value(false).eval() )\n",
    "assert(!Value(false).eval())\n",
    "// True = not False\n",
    "assert( true == Not(Value(false)).eval() )\n",
    "assert(Not(Value(false)).eval())\n",
    "// ??? = not False or True\n",
    "assert( ??? == Or(Not(Value(false)),Value(true)).eval() )\n",
    "// ??? = not (False or True)\n",
    "assert( ??? == Not(Or(Value(false),Value(true))).eval() )\n",
    "\n"
   ]
  },
  {
   "cell_type": "markdown",
   "metadata": {},
   "source": [
    "#### Observations\n",
    "* Visitors Pattern\n",
    "    * If a programming language doesn't have case matching, then writing an interpreter in that language will likely require a visitor pattern\n",
    "    * Advantages\n",
    "        * The code is very strong\n",
    "        * The code is very object oriented\n",
    "    * Disadvantages\n",
    "        * imo: The code is quite difficult to read\n",
    "        * The code is not extensible\n",
    "* Short Circuiting\n",
    "    * In python\n",
    "        * True or B evaluates to True regardless of the value of B\n",
    "        * False and B evaluates to False regardless of the value of B\n",
    "        * Consider python expressions of the form: A or B\n",
    "            * If I evaluate A and it's value is True\n",
    "            * Then I don't need to evaluate B\n",
    "            * I can save some time!!!\n",
    "        * Consider python expressions of the form: A and B\n",
    "            * If I evaluate A and it's value is False\n",
    "            * Then I don't need to evaluate B\n",
    "            * I can save some time!!!\n",
    "        * For expressions of that type, python won't evaluate B when it doesn't need to\n",
    "    * In general\n",
    "        * Most programming languages won't evaluate B either if they don't have to\n",
    "        * This is known as **short circuiting**\n",
    "* Case Matching\n",
    "    * This looks a lot like a switch statement\n",
    "    * This is WAAAAAY more powerful than a switch statement\n",
    "    * We can use it to create useful variables as we go\n",
    "    * If a language has case matching we can write an interpreter in that language without the visitor pattern\n",
    "    * WARNING: Case statements are read sequentially.\n"
   ]
  },
  {
   "cell_type": "markdown",
   "metadata": {},
   "source": [
    "### Qs ???"
   ]
  },
  {
   "cell_type": "markdown",
   "metadata": {},
   "source": [
    "### Maths\n",
    "* Tuesday in class we defined an AST named \"Maths\"\n",
    "* Implement an interpreter function call \"doMaths\" that interprets Maths objects\n",
    "* Do this as a method of the Maths class\n",
    "* Write some tests\n"
   ]
  },
  {
   "cell_type": "code",
   "execution_count": 18,
   "metadata": {
    "collapsed": false
   },
   "outputs": [
    {
     "ename": "",
     "evalue": "",
     "output_type": "error",
     "traceback": [
      "\u001b[31mscala.NotImplementedError: an implementation is missing\u001b[39m\n  scala.Predef$.$qmark$qmark$qmark(\u001b[32mPredef.scala\u001b[39m:\u001b[32m288\u001b[39m)\n  ammonite.$sess.cmd17$Helper$Maths.doMaths(\u001b[32mcmd17.sc\u001b[39m:\u001b[32m3\u001b[39m)\n  ammonite.$sess.cmd17$Helper$Maths.doMaths$(\u001b[32mcmd17.sc\u001b[39m:\u001b[32m2\u001b[39m)\n  ammonite.$sess.cmd17$Helper$Add.doMaths(\u001b[32mcmd17.sc\u001b[39m:\u001b[32m8\u001b[39m)\n  ammonite.$sess.cmd17$Helper.<init>(\u001b[32mcmd17.sc\u001b[39m:\u001b[32m14\u001b[39m)\n  ammonite.$sess.cmd17$.<init>(\u001b[32mcmd17.sc\u001b[39m:\u001b[32m7\u001b[39m)\n  ammonite.$sess.cmd17$.<clinit>(\u001b[32mcmd17.sc\u001b[39m:\u001b[32m-1\u001b[39m)"
     ]
    }
   ],
   "source": [
    "// Generative Grammar:\n",
    "/* Maths →  Negative(Maths) |\n",
    "            Add(Maths, Maths) | \n",
    "            Multiply(Maths, Maths) |\n",
    "            Divide(Maths, Maths) |\n",
    "            Number(Int)\n",
    " */\n",
    "\n",
    "// AST\n",
    "sealed trait Maths {\n",
    "    def doMaths():Int = {\n",
    "        ???\n",
    "    }\n",
    "}\n",
    "case class Number(n:Int) extends Maths\n",
    "case class Negative(m1:Maths) extends Maths\n",
    "case class Add(m1:Maths, m2:Maths) extends Maths\n",
    "case class Divide(m1:Maths, m2:Maths) extends Maths\n",
    "case class Multiply(m1:Maths, m2:Maths) extends Maths\n",
    "\n",
    "\n",
    "// 5 = 3 + 2\n",
    "assert( 5 == Add(Number(3), Number(2)).doMaths() )"
   ]
  },
  {
   "cell_type": "markdown",
   "metadata": {},
   "source": [
    "### Qs ???"
   ]
  },
  {
   "cell_type": "markdown",
   "metadata": {},
   "source": [
    "### Logical Maths\n",
    "* Now let's bring these together \n",
    "* Pythonic concrete syntax\n",
    "    * e &RightArrow; b | n | not e | e or e | e and e | - e | e + e | e * e | e / e | (e)\n",
    "    * b &RightArrow; True | False\n",
    "    * n is a number\n",
    "* What should we do with statements that don't have like types?\n",
    "    * examples\n",
    "        * True + 3\n",
    "        * 6 and False\n",
    "    * Options:\n",
    "        * we could cast types\n",
    "            * True casts to 1\n",
    "            * False casts to 0\n",
    "            * 0 casts to False\n",
    "            * n casts to True if n doesn't equal 0\n",
    "        * we could require types\n",
    "            * throw errors on expressions like that\n",
    "        * we could analyze the object language (python) and do whatever it does\n",
    "            * in python find out how the following expressions evaluate\n",
    "                * True + 4\n",
    "                * False + 4\n",
    "                * 1 and True\n",
    "                * 0 and True\n",
    "                * 25 and True\n",
    "            * what does this data suggest about what python does?\n",
    "* Should we give our language short curcuiting?\n",
    "* And then how do we add in if else statements?\n",
    "    * python has a ternary: e<sub>true</sub> if e<sub>condition</sub> else e<sub>false</sub>\n",
    "    * e &RightArrow; b | n | not e | e or e | e and e | **e if e else e** | - e | e + e | e * e | e / e | (e)"
   ]
  },
  {
   "cell_type": "code",
   "execution_count": 19,
   "metadata": {
    "collapsed": false
   },
   "outputs": [
    {
     "ename": "",
     "evalue": "",
     "output_type": "error",
     "traceback": [
      "\u001b[31mscala.NotImplementedError: an implementation is missing\u001b[39m\n  scala.Predef$.$qmark$qmark$qmark(\u001b[32mPredef.scala\u001b[39m:\u001b[32m288\u001b[39m)\n  ammonite.$sess.cmd18$Helper.<init>(\u001b[32mcmd18.sc\u001b[39m:\u001b[32m1\u001b[39m)\n  ammonite.$sess.cmd18$.<init>(\u001b[32mcmd18.sc\u001b[39m:\u001b[32m7\u001b[39m)\n  ammonite.$sess.cmd18$.<clinit>(\u001b[32mcmd18.sc\u001b[39m:\u001b[32m-1\u001b[39m)"
     ]
    }
   ],
   "source": [
    "// Grammar:\n",
    "/*\n",
    "\n",
    " */\n",
    "\n",
    "// AST:\n",
    "???"
   ]
  },
  {
   "cell_type": "markdown",
   "metadata": {},
   "source": [
    "## TODOs\n",
    "* Homework and quiz 3 goes live tonight\n",
    "* Homework and quiz 2 is due tomorrow\n",
    "* Spot exam 1 is next Friday\n",
    "* The first project will go live next week"
   ]
  }
 ],
 "metadata": {
  "anaconda-cloud": {},
  "kernelspec": {
   "display_name": "Scala",
   "language": "scala",
   "name": "scala"
  },
  "language_info": {
   "codemirror_mode": "text/x-scala",
   "file_extension": ".scala",
   "mimetype": "text/x-scala",
   "name": "scala",
   "nbconvert_exporter": "script",
   "version": "2.12.8"
  }
 },
 "nbformat": 4,
 "nbformat_minor": 1
}
