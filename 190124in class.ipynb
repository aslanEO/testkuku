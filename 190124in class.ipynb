{
 "cells": [
  {
   "cell_type": "code",
   "execution_count": 0,
   "metadata": {},
   "outputs": [
    {
     "name": "stderr",
     "output_type": "stream",
     "text": [
      "cmd0.sc:2: not found: value Cons\n",
      "val res0_1 = List ->Cons(Number,List)\n",
      "                    ^cmd0.sc:2: object java.lang.Number is not a value\n",
      "val res0_1 = List ->Cons(Number,List)\n",
      "                         ^cmd0.sc:3: not found: value ConsL\n",
      "val res0_2 = List ->ConsL(List,List)\n",
      "                    ^"
     ]
    },
    {
     "ename": "",
     "evalue": "",
     "output_type": "error",
     "traceback": [
      "Compilation Failed"
     ]
    }
   ],
   "source": [
    "List ->Nil\n",
    "List ->Cons(Number,List)\n",
    "List ->ConsL(List,List)\n"
   ]
  },
  {
   "cell_type": "code",
   "execution_count": 1,
   "metadata": {},
   "outputs": [
    {
     "data": {
      "text/plain": [
       "defined \u001b[32mtrait\u001b[39m \u001b[36mList\u001b[39m\r\n",
       "defined \u001b[32mclass\u001b[39m \u001b[36mNil\u001b[39m\r\n",
       "defined \u001b[32mclass\u001b[39m \u001b[36mCons\u001b[39m\r\n",
       "defined \u001b[32mclass\u001b[39m \u001b[36mConsL\u001b[39m"
      ]
     },
     "execution_count": 1,
     "metadata": {},
     "output_type": "execute_result"
    }
   ],
   "source": [
    "sealed trait List //abstract\n",
    "case class Nil()extends List //no parameter lsit can be Nil\n",
    "case class Cons(j:Int,l:List) extends List\n",
    "case class ConsL(i1:List,i2:List)extends List"
   ]
  },
  {
   "cell_type": "code",
   "execution_count": 1,
   "metadata": {},
   "outputs": [
    {
     "name": "stderr",
     "output_type": "stream",
     "text": [
      "cmd1.sc:1: not found: type *\r\n",
      "val l1=new * Nil()\r\n",
      "           ^"
     ]
    },
    {
     "ename": "",
     "evalue": "",
     "output_type": "error",
     "traceback": [
      "Compilation Failed"
     ]
    }
   ],
   "source": [
    " val l1=new * Nil()\n"
   ]
  },
  {
   "cell_type": "code",
   "execution_count": null,
   "metadata": {},
   "outputs": [],
   "source": [
    "l val l2=Cons(25,Cons(24,Cons(l2,Nil)))"
   ]
  },
  {
   "cell_type": "code",
   "execution_count": null,
   "metadata": {},
   "outputs": [],
   "source": [
    "l val l3=Cons(l,Nil)"
   ]
  },
  {
   "cell_type": "code",
   "execution_count": null,
   "metadata": {},
   "outputs": [],
   "source": [
    "l vall4=ConsL(l3,l2)"
   ]
  },
  {
   "cell_type": "code",
   "execution_count": null,
   "metadata": {},
   "outputs": [],
   "source": [
    "T ->Leaf\n",
    "T->Node(Int,Tree,Tree)\n",
    "Start symbol is Tree\n",
    "Example tree\n",
    "Node(20,Node(10,Leaf,Leaf),leaf)"
   ]
  },
  {
   "cell_type": "code",
   "execution_count": null,
   "metadata": {},
   "outputs": [],
   "source": []
  }
 ],
 "metadata": {
  "kernelspec": {
   "display_name": "Scala 2.11.11",
   "language": "scala",
   "name": "scala"
  },
  "language_info": {
   "codemirror_mode": "text/x-scala",
   "file_extension": ".scala",
   "mimetype": "text/x-scala",
   "name": "scala211",
   "nbconvert_exporter": "script",
   "pygments_lexer": "scala",
   "version": "2.11.11"
  }
 },
 "nbformat": 4,
 "nbformat_minor": 2
}
